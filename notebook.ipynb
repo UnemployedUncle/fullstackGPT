{
 "cells": [
  {
   "cell_type": "code",
   "execution_count": 6,
   "metadata": {},
   "outputs": [],
   "source": [
    "# !pip install python-dotenv\n",
    "from dotenv import load_dotenv\n",
    "import os\n",
    "# os.getcwd()\n",
    "\n",
    "load_dotenv()\n",
    "openai_api_key = os.environ.get(\"OPENAI_API_KEY\")"
   ]
  },
  {
   "cell_type": "code",
   "execution_count": 10,
   "metadata": {},
   "outputs": [
    {
     "data": {
      "text/plain": [
       "'There are 8 planets in our solar system: Mercury, Venus, Earth, Mars, Jupiter, Saturn, Uranus, and Neptune.'"
      ]
     },
     "execution_count": 10,
     "metadata": {},
     "output_type": "execute_result"
    }
   ],
   "source": [
    "# 3.0\n",
    "# from langchain.llms.openai import OpenAI\n",
    "from langchain.chat_models import ChatOpenAI #, ChatAnthropic\n",
    "\n",
    "# llm = OpenAI()\n",
    "chat = ChatOpenAI()\n",
    "\n",
    "# a = llm.predict(\"How many planets are ther?\")\n",
    "# Error = The model `text-davinci-003` has been deprecated\n",
    "b = chat.predict(\"How many planets are ther?\")\n",
    "\n",
    "b"
   ]
  },
  {
   "cell_type": "code",
   "execution_count": 11,
   "metadata": {},
   "outputs": [
    {
     "data": {
      "text/plain": [
       "AIMessage(content='La distanza tra il Messico e la Thailandia è di circa 16.000 chilometri. Come posso aiutarti ancora?')"
      ]
     },
     "execution_count": 11,
     "metadata": {},
     "output_type": "execute_result"
    }
   ],
   "source": [
    "#3.1\n",
    "chat = ChatOpenAI(\n",
    "    temperature=0.1\n",
    ")\n",
    "\n",
    "from langchain.schema import HumanMessage, AIMessage, SystemMessage\n",
    "messages = [\n",
    "    SystemMessage(content=\"You are a geography expert. And you only reply in Italian.\"),\n",
    "    AIMessage(content=\"Ciao, mi chiamo Paolo\"),\n",
    "    HumanMessage(content=\"Waht is the distance between Mexico and Thailand. Also what is you name?\"),\n",
    "]\n",
    "\n",
    "chat.predict_messages(messages)\n",
    "# AIMessage(content='La distanza tra il Messico e la Thailandia è di circa 16.000 chilometri. Come posso aiutarti ancora?')"
   ]
  },
  {
   "cell_type": "code",
   "execution_count": 19,
   "metadata": {},
   "outputs": [
    {
     "data": {
      "text/plain": [
       "AIMessage(content='Η απόσταση μεταξύ Μεξικό και Ταϊλάνδης είναι περίπου 16.500 χιλιόμετρα.')"
      ]
     },
     "execution_count": 19,
     "metadata": {},
     "output_type": "execute_result"
    }
   ],
   "source": [
    "# 3.2 prompt template\n",
    "from langchain.chat_models import ChatOpenAI\n",
    "from langchain.prompts import PromptTemplate, ChatPromptTemplate\n",
    "\n",
    "chat = ChatOpenAI(\n",
    "    # temperature=0.1\n",
    ")\n",
    "\n",
    "template = ChatPromptTemplate.from_messages([\n",
    "    (\"system\", \"You are a geography expert. And you only reply in {language}.\"),\n",
    "    (\"ai\", \"Ciao, mi chiamo {name}\"),\n",
    "    (\"human\", \"Waht is the distance between {country_a} and {country_b}.\"),\n",
    "])\n",
    "\n",
    "prompt = template.format_messages(\n",
    "    language = \"Greek\",\n",
    "    name = \"Socrates\",\n",
    "    country_a = \"Mexico\",\n",
    "    country_b = \"Thailand\",\n",
    ")\n",
    "# template = PromptTemplate.from_template(\"Waht is the distance between {country_a} and {country_b}\")\n",
    "# prompt = template.format(country_a=\"Mexico\", country_b=\"Thailand\")\n",
    "\n",
    "# chat.predict(prompt)\n",
    "# 'The distance between Mexico and Thailand is approximately 15,000 kilometers (9,320 miles) when measured in a straight line.'\n",
    "chat.predict_messages(prompt)\n"
   ]
  },
  {
   "cell_type": "code",
   "execution_count": 20,
   "metadata": {},
   "outputs": [],
   "source": [
    "from langchain.chat_models import ChatOpenAI\n",
    "from langchain.prompts import ChatPromptTemplate\n",
    "\n",
    "chat = ChatOpenAI(temperature=0.1)"
   ]
  },
  {
   "cell_type": "code",
   "execution_count": 23,
   "metadata": {},
   "outputs": [
    {
     "data": {
      "text/plain": [
       "['Hello', 'how', 'are', 'you']"
      ]
     },
     "execution_count": 23,
     "metadata": {},
     "output_type": "execute_result"
    }
   ],
   "source": [
    "from langchain.schema import BaseOutputParser\n",
    "\n",
    "class CommaOutputParser(BaseOutputParser):\n",
    "    def parse(self, text):\n",
    "        items = text.strip().split(\",\")\n",
    "        return list(map(str.strip, items))\n",
    "\n",
    "p = CommaOutputParser()\n",
    "p.parse(\"Hello,how, are,you\")"
   ]
  },
  {
   "cell_type": "code",
   "execution_count": 27,
   "metadata": {},
   "outputs": [
    {
     "data": {
      "text/plain": [
       "['1. Mercury\\n2. Venus\\n3. Earth\\n4. Mars\\n5. Jupiter\\n6. Saturn\\n7. Uranus\\n8. Neptune\\n9. Pluto (dwarf planet)\\n10. Eris (dwarf planet)']"
      ]
     },
     "execution_count": 27,
     "metadata": {},
     "output_type": "execute_result"
    }
   ],
   "source": [
    "template = ChatPromptTemplate.from_messages([\n",
    "    (\"system\", \"You are list generating machine. Everything you are asked will be answered with a list of max {max_items}. Do not replay with anythin else\"),\n",
    "    (\"human\", \"{question}\")\n",
    "])\n",
    "\n",
    "# prompt = template.format_messages(\n",
    "#     max_items = 10,\n",
    "#     question = \"What are the planets?\"\n",
    "# )\n",
    "\n",
    "# result = chat.predict_messages(prompt)\n",
    "\n",
    "# p = CommaOutputParser()\n",
    "# p.parse(result.content)\n",
    "\n"
   ]
  },
  {
   "cell_type": "code",
   "execution_count": 28,
   "metadata": {},
   "outputs": [
    {
     "data": {
      "text/plain": [
       "['1. Pikachu\\n2. Charizard\\n3. Bulbasaur\\n4. Squirtle\\n5. Jigglypuff\\n6. Eevee\\n7. Snorlax\\n8. Gengar\\n9. Mewtwo\\n10. Lucario']"
      ]
     },
     "execution_count": 28,
     "metadata": {},
     "output_type": "execute_result"
    }
   ],
   "source": [
    "chain = template | chat | CommaOutputParser()\n",
    "# chain_one = template | chat | CommaOutputParser()\n",
    "# chain_two = template | chat | CommaOutputParser()\n",
    "\n",
    "# all = chain_one | chain_two | output\n",
    "\n",
    "chain.invoke({\n",
    "    \"max_items\": 10,\n",
    "    \"question\": \"What are the pokemons?\"\n",
    "})"
   ]
  },
  {
   "cell_type": "code",
   "execution_count": 40,
   "metadata": {},
   "outputs": [],
   "source": [
    "# 3.4 Components\n",
    "# Prompt - dict ~ promptValue, Retriever, LLM, ChatModel, Tool, OutputParser\n",
    "from langchain.chat_models import ChatOpenAI\n",
    "from langchain.prompts import ChatPromptTemplate\n",
    "from langchain.callbacks import StreamingStdOutCallbackHandler\n",
    "\n",
    "chat = ChatOpenAI(\n",
    "    temperature=0.1, \n",
    "    streaming=True, \n",
    "    callbacks=[StreamingStdOutCallbackHandler()],)\n",
    "\n",
    "chef_prompt = ChatPromptTemplate.from_messages([\n",
    "    (\"system\", \"You are a chef. i create easy recipes with easy to find ingreditents\"),\n",
    "    (\"human\", \"I want to cook {cuisine} food\"),\n",
    "])\n",
    "\n",
    "chef_chain = chef_prompt | chat\n"
   ]
  },
  {
   "cell_type": "code",
   "execution_count": 41,
   "metadata": {},
   "outputs": [
    {
     "name": "stdout",
     "output_type": "stream",
     "text": [
      "Great choice! Here's a simple recipe for Chicken Curry that you can try at home:\n",
      "\n",
      "Ingredients:\n",
      "- 1 lb boneless, skinless chicken breasts, cut into bite-sized pieces\n",
      "- 1 onion, finely chopped\n",
      "- 2 cloves of garlic, minced\n",
      "- 1-inch piece of ginger, grated\n",
      "- 1 can (14 oz) diced tomatoes\n",
      "- 1 can (14 oz) coconut milk\n",
      "- 2 tbsp curry powder\n",
      "- 1 tsp turmeric\n",
      "- 1 tsp cumin\n",
      "- 1 tsp coriander\n",
      "- Salt and pepper to taste\n",
      "- Fresh cilantro for garnish\n",
      "- Cooked rice or naan bread for serving\n",
      "\n",
      "Instructions:\n",
      "1. In a large skillet, heat some oil over medium heat. Add the chopped onion and cook until softened, about 5 minutes.\n",
      "2. Add the minced garlic and grated ginger, and cook for another minute until fragrant.\n",
      "3. Add the chicken pieces to the skillet and cook until browned on all sides.\n",
      "4. Stir in the curry powder, turmeric, cumin, and coriander, and cook for another minute to toast the spices.\n",
      "5. Pour in the diced tomatoes and coconut milk, and season with salt and pepper. Stir to combine.\n",
      "6. Bring the mixture to a simmer, then reduce the heat to low and cover. Let it simmer for about 20-25 minutes, or until the chicken is cooked through and the sauce has thickened.\n",
      "7. Taste and adjust the seasoning if needed.\n",
      "8. Serve the chicken curry over cooked rice or with naan bread. Garnish with fresh cilantro.\n",
      "\n",
      "Enjoy your homemade Indian Chicken Curry!That sounds like a delicious recipe for Chicken Curry! However, as a vegetarian chef, I would like to offer you an alternative version using vegetables instead of chicken. Here's a vegetarian curry recipe that you can try at home:\n",
      "\n",
      "Vegetarian Curry Recipe:\n",
      "\n",
      "Ingredients:\n",
      "- 2 cups mixed vegetables (such as bell peppers, carrots, peas, potatoes, cauliflower)\n",
      "- 1 onion, finely chopped\n",
      "- 2 cloves of garlic, minced\n",
      "- 1-inch piece of ginger, grated\n",
      "- 1 can (14 oz) diced tomatoes\n",
      "- 1 can (14 oz) coconut milk\n",
      "- 2 tbsp curry powder\n",
      "- 1 tsp turmeric\n",
      "- 1 tsp cumin\n",
      "- 1 tsp coriander\n",
      "- Salt and pepper to taste\n",
      "- Fresh cilantro for garnish\n",
      "- Cooked rice or naan bread for serving\n",
      "\n",
      "Instructions:\n",
      "1. In a large skillet, heat some oil over medium heat. Add the chopped onion and cook until softened, about 5 minutes.\n",
      "2. Add the minced garlic and grated ginger, and cook for another minute until fragrant.\n",
      "3. Add the mixed vegetables to the skillet and cook until slightly tender.\n",
      "4. Stir in the curry powder, turmeric, cumin, and coriander, and cook for another minute to toast the spices.\n",
      "5. Pour in the diced tomatoes and coconut milk, and season with salt and pepper. Stir to combine.\n",
      "6. Bring the mixture to a simmer, then reduce the heat to low and cover. Let it simmer for about 15-20 minutes, or until the vegetables are cooked through and the sauce has thickened.\n",
      "7. Taste and adjust the seasoning if needed.\n",
      "8. Serve the vegetable curry over cooked rice or with naan bread. Garnish with fresh cilantro.\n",
      "\n",
      "Enjoy your homemade Vegetarian Curry! It's a flavorful and satisfying dish that's perfect for vegetarians and veggie lovers."
     ]
    },
    {
     "data": {
      "text/plain": [
       "AIMessageChunk(content=\"That sounds like a delicious recipe for Chicken Curry! However, as a vegetarian chef, I would like to offer you an alternative version using vegetables instead of chicken. Here's a vegetarian curry recipe that you can try at home:\\n\\nVegetarian Curry Recipe:\\n\\nIngredients:\\n- 2 cups mixed vegetables (such as bell peppers, carrots, peas, potatoes, cauliflower)\\n- 1 onion, finely chopped\\n- 2 cloves of garlic, minced\\n- 1-inch piece of ginger, grated\\n- 1 can (14 oz) diced tomatoes\\n- 1 can (14 oz) coconut milk\\n- 2 tbsp curry powder\\n- 1 tsp turmeric\\n- 1 tsp cumin\\n- 1 tsp coriander\\n- Salt and pepper to taste\\n- Fresh cilantro for garnish\\n- Cooked rice or naan bread for serving\\n\\nInstructions:\\n1. In a large skillet, heat some oil over medium heat. Add the chopped onion and cook until softened, about 5 minutes.\\n2. Add the minced garlic and grated ginger, and cook for another minute until fragrant.\\n3. Add the mixed vegetables to the skillet and cook until slightly tender.\\n4. Stir in the curry powder, turmeric, cumin, and coriander, and cook for another minute to toast the spices.\\n5. Pour in the diced tomatoes and coconut milk, and season with salt and pepper. Stir to combine.\\n6. Bring the mixture to a simmer, then reduce the heat to low and cover. Let it simmer for about 15-20 minutes, or until the vegetables are cooked through and the sauce has thickened.\\n7. Taste and adjust the seasoning if needed.\\n8. Serve the vegetable curry over cooked rice or with naan bread. Garnish with fresh cilantro.\\n\\nEnjoy your homemade Vegetarian Curry! It's a flavorful and satisfying dish that's perfect for vegetarians and veggie lovers.\")"
      ]
     },
     "execution_count": 41,
     "metadata": {},
     "output_type": "execute_result"
    }
   ],
   "source": [
    "veg_chef_prompt = ChatPromptTemplate.from_messages([\n",
    "    (\"system\", \"You are a vegetarian chef. You find alternative ingredients with vegetables\"),\n",
    "    (\"human\", \"{recipe}\"),\n",
    "])\n",
    "\n",
    "veg_chain = veg_chef_prompt | chat\n",
    "\n",
    "# Runnable map\n",
    "final_chain = {\"recipe\": chef_chain} | veg_chain\n",
    "final_chain.invoke({\n",
    "    \"cuisine\": \"indian\"\n",
    "})\n"
   ]
  },
  {
   "cell_type": "code",
   "execution_count": null,
   "metadata": {},
   "outputs": [],
   "source": [
    "# 3.5 Recap"
   ]
  }
 ],
 "metadata": {
  "kernelspec": {
   "display_name": ".venv",
   "language": "python",
   "name": "python3"
  },
  "language_info": {
   "codemirror_mode": {
    "name": "ipython",
    "version": 3
   },
   "file_extension": ".py",
   "mimetype": "text/x-python",
   "name": "python",
   "nbconvert_exporter": "python",
   "pygments_lexer": "ipython3",
   "version": "3.10.11"
  }
 },
 "nbformat": 4,
 "nbformat_minor": 2
}
